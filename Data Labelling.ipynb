{
 "cells": [
  {
   "cell_type": "code",
   "execution_count": 1,
   "metadata": {},
   "outputs": [],
   "source": [
    "import pandas as pd\n",
    "from os import listdir, makedirs, getcwd, remove\n",
    "from os.path import isfile, join, abspath, exists, isdir"
   ]
  },
  {
   "cell_type": "markdown",
   "metadata": {},
   "source": [
    "Getting Data Paths"
   ]
  },
  {
   "cell_type": "code",
   "execution_count": 2,
   "metadata": {},
   "outputs": [],
   "source": [
    "data_dir = join(getcwd(),'MURA-v1.1')\n",
    "train_dir = join(data_dir, 'train')\n",
    "val_dir = join(data_dir, 'valid')\n",
    "\n",
    "#elbow_train_dir = join(train_dir, 'XR_ELBOW')\n",
    "\n",
    "train_paths_csv = join(data_dir,'train_image_paths.csv')\n",
    "\n",
    "val_paths_csv = join(data_dir,'valid_image_paths.csv')\n",
    "train_result_csv = join(data_dir,'train_labeled_studies.csv')\n",
    "valid_result_csv = join(data_dir,'valid_labeled_studies.csv')\n",
    "assert isdir(data_dir) and isdir(train_dir) and isdir(val_dir)\n",
    "assert exists(train_paths_csv) and isfile(train_paths_csv) and exists(val_paths_csv) and isfile(val_paths_csv) and isfile(train_result_csv) and isfile(valid_result_csv)"
   ]
  },
  {
   "cell_type": "markdown",
   "metadata": {},
   "source": [
    "Putting to Dataframe, Label and export them as a csv file"
   ]
  },
  {
   "cell_type": "code",
   "execution_count": 50,
   "metadata": {},
   "outputs": [
    {
     "name": "stdout",
     "output_type": "stream",
     "text": [
      "                                                filename  abnormal\n",
      "0      MURA-v1.1/train/XR_SHOULDER/patient00001/study...       1.0\n",
      "1      MURA-v1.1/train/XR_SHOULDER/patient00001/study...       1.0\n",
      "2      MURA-v1.1/train/XR_SHOULDER/patient00001/study...       1.0\n",
      "3      MURA-v1.1/train/XR_SHOULDER/patient00002/study...       1.0\n",
      "4      MURA-v1.1/train/XR_SHOULDER/patient00002/study...       1.0\n",
      "5      MURA-v1.1/train/XR_SHOULDER/patient00002/study...       1.0\n",
      "6      MURA-v1.1/train/XR_SHOULDER/patient00003/study...       1.0\n",
      "7      MURA-v1.1/train/XR_SHOULDER/patient00003/study...       1.0\n",
      "8      MURA-v1.1/train/XR_SHOULDER/patient00003/study...       1.0\n",
      "9      MURA-v1.1/train/XR_SHOULDER/patient00004/study...       1.0\n",
      "10     MURA-v1.1/train/XR_SHOULDER/patient00004/study...       1.0\n",
      "11     MURA-v1.1/train/XR_SHOULDER/patient00004/study...       1.0\n",
      "12     MURA-v1.1/train/XR_SHOULDER/patient00004/study...       1.0\n",
      "13     MURA-v1.1/train/XR_SHOULDER/patient00005/study...       1.0\n",
      "14     MURA-v1.1/train/XR_SHOULDER/patient00006/study...       1.0\n",
      "15     MURA-v1.1/train/XR_SHOULDER/patient00006/study...       1.0\n",
      "16     MURA-v1.1/train/XR_SHOULDER/patient00007/study...       1.0\n",
      "17     MURA-v1.1/train/XR_SHOULDER/patient00007/study...       1.0\n",
      "18     MURA-v1.1/train/XR_SHOULDER/patient00007/study...       1.0\n",
      "19     MURA-v1.1/train/XR_SHOULDER/patient00007/study...       1.0\n",
      "20     MURA-v1.1/train/XR_SHOULDER/patient00007/study...       1.0\n",
      "21     MURA-v1.1/train/XR_SHOULDER/patient00007/study...       1.0\n",
      "22     MURA-v1.1/train/XR_SHOULDER/patient00007/study...       1.0\n",
      "23     MURA-v1.1/train/XR_SHOULDER/patient00008/study...       1.0\n",
      "24     MURA-v1.1/train/XR_SHOULDER/patient00008/study...       1.0\n",
      "25     MURA-v1.1/train/XR_SHOULDER/patient00008/study...       1.0\n",
      "26     MURA-v1.1/train/XR_SHOULDER/patient00009/study...       1.0\n",
      "27     MURA-v1.1/train/XR_SHOULDER/patient00010/study...       1.0\n",
      "28     MURA-v1.1/train/XR_SHOULDER/patient00010/study...       1.0\n",
      "29     MURA-v1.1/train/XR_SHOULDER/patient00011/study...       1.0\n",
      "...                                                  ...       ...\n",
      "36778  MURA-v1.1/train/XR_HAND/patient11175/study1_ne...       0.0\n",
      "36779  MURA-v1.1/train/XR_HAND/patient11175/study1_ne...       0.0\n",
      "36780  MURA-v1.1/train/XR_HAND/patient11175/study1_ne...       0.0\n",
      "36781  MURA-v1.1/train/XR_HAND/patient11176/study1_ne...       0.0\n",
      "36782  MURA-v1.1/train/XR_HAND/patient11176/study1_ne...       0.0\n",
      "36783  MURA-v1.1/train/XR_HAND/patient11176/study1_ne...       0.0\n",
      "36784  MURA-v1.1/train/XR_HAND/patient11177/study1_ne...       0.0\n",
      "36785  MURA-v1.1/train/XR_HAND/patient11177/study1_ne...       0.0\n",
      "36786  MURA-v1.1/train/XR_HAND/patient11177/study1_ne...       0.0\n",
      "36787  MURA-v1.1/train/XR_HAND/patient11178/study1_ne...       0.0\n",
      "36788  MURA-v1.1/train/XR_HAND/patient11178/study1_ne...       0.0\n",
      "36789  MURA-v1.1/train/XR_HAND/patient11178/study1_ne...       0.0\n",
      "36790  MURA-v1.1/train/XR_HAND/patient04107/study1_ne...       0.0\n",
      "36791  MURA-v1.1/train/XR_HAND/patient04107/study1_ne...       0.0\n",
      "36792  MURA-v1.1/train/XR_HAND/patient11179/study1_ne...       0.0\n",
      "36793  MURA-v1.1/train/XR_HAND/patient11179/study1_ne...       0.0\n",
      "36794  MURA-v1.1/train/XR_HAND/patient11179/study1_ne...       0.0\n",
      "36795  MURA-v1.1/train/XR_HAND/patient11180/study1_ne...       0.0\n",
      "36796  MURA-v1.1/train/XR_HAND/patient11181/study1_ne...       0.0\n",
      "36797  MURA-v1.1/train/XR_HAND/patient11181/study1_ne...       0.0\n",
      "36798  MURA-v1.1/train/XR_HAND/patient11181/study1_ne...       0.0\n",
      "36799  MURA-v1.1/train/XR_HAND/patient11182/study1_ne...       0.0\n",
      "36800  MURA-v1.1/train/XR_HAND/patient11182/study1_ne...       0.0\n",
      "36801  MURA-v1.1/train/XR_HAND/patient11182/study1_ne...       0.0\n",
      "36802  MURA-v1.1/train/XR_HAND/patient11183/study1_ne...       0.0\n",
      "36803  MURA-v1.1/train/XR_HAND/patient11183/study1_ne...       0.0\n",
      "36804  MURA-v1.1/train/XR_HAND/patient11183/study1_ne...       0.0\n",
      "36805  MURA-v1.1/train/XR_HAND/patient11184/study1_ne...       0.0\n",
      "36806  MURA-v1.1/train/XR_HAND/patient11184/study1_ne...       0.0\n",
      "36807  MURA-v1.1/train/XR_HAND/patient11184/study1_ne...       0.0\n",
      "\n",
      "[36808 rows x 2 columns]\n"
     ]
    }
   ],
   "source": [
    "train_paths_df = pd.read_csv(train_paths_csv, names=['filename', 'abnormal'])\n",
    "train_labels_df = pd.read_csv(train_result_csv, names=['patient', 'label'])\n",
    "\n",
    "i = j = 0\n",
    "while i<len(train_paths_df):\n",
    "    filepath = train_paths_df.loc[i].filename\n",
    "    patientpath = train_labels_df.loc[j].patient\n",
    "    file_patientnum = filepath[28:40]\n",
    "    patientnum = patientpath[28:40]\n",
    "    if file_patientnum == patientnum:\n",
    "        train_paths_df.iloc[i,1] = train_labels_df.iloc[j, 1]\n",
    "        i+=1\n",
    "    else:\n",
    "        j+=1\n",
    "#print(train_paths_df)\n",
    "#train_paths_df.to_csv(\"trainset.csv\", header = False, index = False)"
   ]
  },
  {
   "cell_type": "code",
   "execution_count": 9,
   "metadata": {},
   "outputs": [
    {
     "name": "stdout",
     "output_type": "stream",
     "text": [
      "                                               filename  abnormal\n",
      "0     MURA-v1.1/valid/XR_WRIST/patient11185/study1_p...       1.0\n",
      "1     MURA-v1.1/valid/XR_WRIST/patient11185/study1_p...       1.0\n",
      "2     MURA-v1.1/valid/XR_WRIST/patient11185/study1_p...       1.0\n",
      "3     MURA-v1.1/valid/XR_WRIST/patient11185/study1_p...       1.0\n",
      "4     MURA-v1.1/valid/XR_WRIST/patient11186/study1_p...       1.0\n",
      "5     MURA-v1.1/valid/XR_WRIST/patient11186/study1_p...       1.0\n",
      "6     MURA-v1.1/valid/XR_WRIST/patient11186/study2_p...       1.0\n",
      "7     MURA-v1.1/valid/XR_WRIST/patient11186/study2_p...       1.0\n",
      "8     MURA-v1.1/valid/XR_WRIST/patient11186/study2_p...       1.0\n",
      "9     MURA-v1.1/valid/XR_WRIST/patient11186/study3_p...       1.0\n",
      "10    MURA-v1.1/valid/XR_WRIST/patient11186/study3_p...       1.0\n",
      "11    MURA-v1.1/valid/XR_WRIST/patient11186/study3_p...       1.0\n",
      "12    MURA-v1.1/valid/XR_WRIST/patient11187/study1_p...       1.0\n",
      "13    MURA-v1.1/valid/XR_WRIST/patient11188/study1_p...       1.0\n",
      "14    MURA-v1.1/valid/XR_WRIST/patient11188/study1_p...       1.0\n",
      "15    MURA-v1.1/valid/XR_WRIST/patient11188/study1_p...       1.0\n",
      "16    MURA-v1.1/valid/XR_WRIST/patient11188/study1_p...       1.0\n",
      "17    MURA-v1.1/valid/XR_WRIST/patient11189/study1_p...       1.0\n",
      "18    MURA-v1.1/valid/XR_WRIST/patient11189/study1_p...       1.0\n",
      "19    MURA-v1.1/valid/XR_WRIST/patient11190/study1_p...       1.0\n",
      "20    MURA-v1.1/valid/XR_WRIST/patient11190/study1_p...       1.0\n",
      "21    MURA-v1.1/valid/XR_WRIST/patient11191/study1_p...       1.0\n",
      "22    MURA-v1.1/valid/XR_WRIST/patient11191/study1_p...       1.0\n",
      "23    MURA-v1.1/valid/XR_WRIST/patient11191/study1_p...       1.0\n",
      "24    MURA-v1.1/valid/XR_WRIST/patient11192/study1_p...       1.0\n",
      "25    MURA-v1.1/valid/XR_WRIST/patient11192/study1_p...       1.0\n",
      "26    MURA-v1.1/valid/XR_WRIST/patient11192/study1_p...       1.0\n",
      "27    MURA-v1.1/valid/XR_WRIST/patient11193/study1_p...       1.0\n",
      "28    MURA-v1.1/valid/XR_WRIST/patient11193/study1_p...       1.0\n",
      "29    MURA-v1.1/valid/XR_WRIST/patient11193/study1_p...       1.0\n",
      "...                                                 ...       ...\n",
      "3167  MURA-v1.1/valid/XR_FINGER/patient11455/study1_...       0.0\n",
      "3168  MURA-v1.1/valid/XR_FINGER/patient11455/study1_...       0.0\n",
      "3169  MURA-v1.1/valid/XR_FINGER/patient11329/study1_...       0.0\n",
      "3170  MURA-v1.1/valid/XR_FINGER/patient11329/study1_...       0.0\n",
      "3171  MURA-v1.1/valid/XR_FINGER/patient11329/study1_...       0.0\n",
      "3172  MURA-v1.1/valid/XR_FINGER/patient11496/study1_...       0.0\n",
      "3173  MURA-v1.1/valid/XR_FINGER/patient11496/study1_...       0.0\n",
      "3174  MURA-v1.1/valid/XR_FINGER/patient11496/study1_...       0.0\n",
      "3175  MURA-v1.1/valid/XR_FINGER/patient11354/study1_...       0.0\n",
      "3176  MURA-v1.1/valid/XR_FINGER/patient11354/study1_...       0.0\n",
      "3177  MURA-v1.1/valid/XR_FINGER/patient11354/study1_...       0.0\n",
      "3178  MURA-v1.1/valid/XR_FINGER/patient11963/study1_...       0.0\n",
      "3179  MURA-v1.1/valid/XR_FINGER/patient11963/study1_...       0.0\n",
      "3180  MURA-v1.1/valid/XR_FINGER/patient11964/study1_...       0.0\n",
      "3181  MURA-v1.1/valid/XR_FINGER/patient11964/study1_...       0.0\n",
      "3182  MURA-v1.1/valid/XR_FINGER/patient11431/study1_...       0.0\n",
      "3183  MURA-v1.1/valid/XR_FINGER/patient11431/study1_...       0.0\n",
      "3184  MURA-v1.1/valid/XR_FINGER/patient11431/study1_...       0.0\n",
      "3185  MURA-v1.1/valid/XR_FINGER/patient11965/study1_...       0.0\n",
      "3186  MURA-v1.1/valid/XR_FINGER/patient11855/study1_...       0.0\n",
      "3187  MURA-v1.1/valid/XR_FINGER/patient11966/study1_...       0.0\n",
      "3188  MURA-v1.1/valid/XR_FINGER/patient11966/study1_...       0.0\n",
      "3189  MURA-v1.1/valid/XR_FINGER/patient11966/study1_...       0.0\n",
      "3190  MURA-v1.1/valid/XR_FINGER/patient11967/study1_...       0.0\n",
      "3191  MURA-v1.1/valid/XR_FINGER/patient11967/study1_...       0.0\n",
      "3192  MURA-v1.1/valid/XR_FINGER/patient11967/study1_...       0.0\n",
      "3193  MURA-v1.1/valid/XR_FINGER/patient11967/study1_...       0.0\n",
      "3194  MURA-v1.1/valid/XR_FINGER/patient11738/study1_...       0.0\n",
      "3195  MURA-v1.1/valid/XR_FINGER/patient11738/study1_...       0.0\n",
      "3196  MURA-v1.1/valid/XR_FINGER/patient11738/study1_...       0.0\n",
      "\n",
      "[3197 rows x 2 columns]\n"
     ]
    }
   ],
   "source": [
    "test_paths_df = pd.read_csv(val_paths_csv, names=['filename', 'abnormal'])\n",
    "test_labels_df = pd.read_csv(valid_result_csv, names=['patient', 'label'])\n",
    "\n",
    "i = j = 0\n",
    "while i<len(test_paths_df):\n",
    "    filepath = test_paths_df.loc[i].filename\n",
    "    patientpath = test_labels_df.loc[j].patient\n",
    "    file_patientnum = filepath[28:40]\n",
    "    patientnum = patientpath[28:40]\n",
    "    if file_patientnum == patientnum:\n",
    "        test_paths_df.iloc[i,1] = test_labels_df.iloc[j, 1]\n",
    "        i+=1\n",
    "    else:\n",
    "        j+=1\n",
    "\n",
    "        \n",
    "print(test_paths_df)\n",
    "test_paths_df.to_csv(\"testset.csv\", header = False, index = False)"
   ]
  },
  {
   "cell_type": "code",
   "execution_count": 25,
   "metadata": {},
   "outputs": [],
   "source": [
    "trainset_df = pd.read_csv(\"trainset.csv\", names=['filename', 'abnormal'])"
   ]
  },
  {
   "cell_type": "markdown",
   "metadata": {},
   "source": [
    "Separating Data into their respective categories"
   ]
  },
  {
   "cell_type": "code",
   "execution_count": 26,
   "metadata": {},
   "outputs": [],
   "source": [
    "def separate_df(trainset_df, x): #x = length of string\n",
    "    i = 0\n",
    "    while i<len(trainset_df):\n",
    "        temp = trainset_df.loc[i].filename[16:16+x]\n",
    "        lst = []\n",
    "        if temp == \"XR_ELBOW\":\n",
    "            lst.append(trainset_df.loc[i].filename)\n",
    "            lst.append(trainset_df.loc[i].abnormal)\n",
    "            temp_elbow.append(lst)\n",
    "        elif temp == \"XR_FINGER\":\n",
    "            lst.append(trainset_df.loc[i].filename)\n",
    "            lst.append(trainset_df.loc[i].abnormal)\n",
    "            temp_finger.append(lst)\n",
    "        elif temp == \"XR_FOREARM\":\n",
    "            lst.append(trainset_df.loc[i].filename)\n",
    "            lst.append(trainset_df.loc[i].abnormal)\n",
    "            temp_forearm.append(lst)\n",
    "        elif temp == \"XR_HAND\":\n",
    "            lst.append(trainset_df.loc[i].filename)\n",
    "            lst.append(trainset_df.loc[i].abnormal)\n",
    "            temp_hand.append(lst)\n",
    "        elif temp == \"XR_HUMERUS\":\n",
    "            lst.append(trainset_df.loc[i].filename)\n",
    "            lst.append(trainset_df.loc[i].abnormal)\n",
    "            temp_humerus.append(lst)\n",
    "        elif temp == \"XR_SHOULDER\":\n",
    "            lst.append(trainset_df.loc[i].filename)\n",
    "            lst.append(trainset_df.loc[i].abnormal)\n",
    "            temp_shoulder.append(lst)\n",
    "        elif temp == \"XR_WRIST\":\n",
    "            lst.append(trainset_df.loc[i].filename)\n",
    "            lst.append(trainset_df.loc[i].abnormal)\n",
    "            temp_wrist.append(lst)\n",
    "        i+=1"
   ]
  },
  {
   "cell_type": "code",
   "execution_count": 27,
   "metadata": {},
   "outputs": [],
   "source": [
    "temp_elbow = []\n",
    "temp_finger = []\n",
    "temp_forearm = []\n",
    "temp_hand = []\n",
    "temp_humerus = []\n",
    "temp_shoulder = []\n",
    "temp_wrist = []\n",
    "separate_df(trainset_df, 8) #elbow and wrist\n",
    "separate_df(trainset_df, 9) #finger\n",
    "separate_df(trainset_df, 10) #forearm & humerus\n",
    "separate_df(trainset_df, 7) #hand\n",
    "separate_df(trainset_df, 11) #shoulder\n",
    "\n",
    "\n",
    "trainset_elbow_df = pd.DataFrame(temp_elbow, columns=['filename', 'abnormal'])\n",
    "trainset_finger_df = pd.DataFrame(temp_finger, columns=['filename', 'abnormal'])\n",
    "trainset_forearm_df = pd.DataFrame(temp_forearm, columns=['filename', 'abnormal'])\n",
    "trainset_hand_df = pd.DataFrame(temp_hand, columns=['filename', 'abnormal'])\n",
    "trainset_humerus_df = pd.DataFrame(temp_humerus, columns=['filename', 'abnormal'])\n",
    "trainset_shoulder_df = pd.DataFrame(temp_shoulder, columns=['filename', 'abnormal'])\n",
    "trainset_wrist_df = pd.DataFrame(temp_wrist, columns=['filename', 'abnormal'])\n",
    "\n",
    "#trainset_elbow_df.to_csv(\"trainset_elbow.csv\", header = False, index = False)\n",
    "#trainset_finger_df.to_csv(\"trainset_finger.csv\", header = False, index = False)\n",
    "#trainset_forearm_df.to_csv(\"trainset_forearm.csv\", header = False, index = False)\n",
    "#trainset_hand_df.to_csv(\"trainset_hand.csv\", header = False, index = False)\n",
    "#trainset_humerus_df.to_csv(\"trainset_humerus.csv\", header = False, index = False)\n",
    "#trainset_shoulder_df.to_csv(\"trainset_shoulder.csv\", header = False, index = False)\n",
    "#trainset_wrist_df.to_csv(\"trainset_wrist.csv\", header = False, index = False)"
   ]
  },
  {
   "cell_type": "code",
   "execution_count": 28,
   "metadata": {},
   "outputs": [],
   "source": [
    "testset_df = pd.read_csv(\"testset.csv\", names=['filename', 'abnormal'])"
   ]
  },
  {
   "cell_type": "code",
   "execution_count": 29,
   "metadata": {},
   "outputs": [],
   "source": [
    "temp_elbow = []\n",
    "temp_finger = []\n",
    "temp_forearm = []\n",
    "temp_hand = []\n",
    "temp_humerus = []\n",
    "temp_shoulder = []\n",
    "temp_wrist = []\n",
    "separate_df(testset_df, 8) #elbow and wrist\n",
    "separate_df(testset_df, 9) #finger\n",
    "separate_df(testset_df, 10) #forearm & humerus\n",
    "separate_df(testset_df, 7) #hand\n",
    "separate_df(testset_df, 11) #shoulder\n",
    "\n",
    "\n",
    "testset_elbow_df = pd.DataFrame(temp_elbow, columns=['filename', 'abnormal'])\n",
    "testset_finger_df = pd.DataFrame(temp_finger, columns=['filename', 'abnormal'])\n",
    "testset_forearm_df = pd.DataFrame(temp_forearm, columns=['filename', 'abnormal'])\n",
    "testset_hand_df = pd.DataFrame(temp_hand, columns=['filename', 'abnormal'])\n",
    "testset_humerus_df = pd.DataFrame(temp_humerus, columns=['filename', 'abnormal'])\n",
    "testset_shoulder_df = pd.DataFrame(temp_shoulder, columns=['filename', 'abnormal'])\n",
    "testset_wrist_df = pd.DataFrame(temp_wrist, columns=['filename', 'abnormal'])\n",
    "\n",
    "#testset_elbow_df.to_csv(\"testset_elbow.csv\", header = False, index = False)\n",
    "#testset_finger_df.to_csv(\"testset_finger.csv\", header = False, index = False)\n",
    "#testset_forearm_df.to_csv(\"testset_forearm.csv\", header = False, index = False)\n",
    "#testset_hand_df.to_csv(\"testset_hand.csv\", header = False, index = False)\n",
    "#testset_humerus_df.to_csv(\"testset_humerus.csv\", header = False, index = False)\n",
    "#testset_shoulder_df.to_csv(\"testset_shoulder.csv\", header = False, index = False)\n",
    "#testset_wrist_df.to_csv(\"testset_wrist.csv\", header = False, index = False)"
   ]
  },
  {
   "cell_type": "markdown",
   "metadata": {},
   "source": [
    "Checking if the above code ran correctly"
   ]
  },
  {
   "cell_type": "code",
   "execution_count": 30,
   "metadata": {},
   "outputs": [
    {
     "name": "stdout",
     "output_type": "stream",
     "text": [
      "True\n",
      "True\n"
     ]
    }
   ],
   "source": [
    "print((len(trainset_elbow_df)+len(trainset_finger_df)+len(trainset_forearm_df)+len(trainset_hand_df)+len(trainset_humerus_df)+\n",
    "     len(trainset_shoulder_df)+len(trainset_wrist_df))==len(trainset_df))\n",
    "\n",
    "print((len(testset_elbow_df)+len(testset_finger_df)+len(testset_forearm_df)+len(testset_hand_df)+len(testset_humerus_df)+\n",
    "     len(testset_shoulder_df)+len(testset_wrist_df))==len(testset_df))"
   ]
  }
 ],
 "metadata": {
  "kernelspec": {
   "display_name": "Python 3",
   "language": "python",
   "name": "python3"
  },
  "language_info": {
   "codemirror_mode": {
    "name": "ipython",
    "version": 3
   },
   "file_extension": ".py",
   "mimetype": "text/x-python",
   "name": "python",
   "nbconvert_exporter": "python",
   "pygments_lexer": "ipython3",
   "version": "3.6.6"
  }
 },
 "nbformat": 4,
 "nbformat_minor": 2
}
